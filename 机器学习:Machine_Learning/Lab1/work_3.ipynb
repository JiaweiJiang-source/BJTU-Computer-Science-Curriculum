{
 "cells": [
  {
   "cell_type": "code",
   "execution_count": 17,
   "id": "3fabd9e5-0381-4248-9ee6-4e3d73ed586d",
   "metadata": {
    "execution": {
     "iopub.execute_input": "2024-10-21T03:40:00.918555Z",
     "iopub.status.busy": "2024-10-21T03:40:00.917898Z",
     "iopub.status.idle": "2024-10-21T03:40:00.922974Z",
     "shell.execute_reply": "2024-10-21T03:40:00.922306Z",
     "shell.execute_reply.started": "2024-10-21T03:40:00.918524Z"
    },
    "scrolled": true
   },
   "outputs": [],
   "source": [
    "# 作业三：音频数据集数据处理（选做）\n",
    "\n",
    "# 1.数据集：使用AI Studio平台作业项目中的/datasets/voice中的数据集。\n",
    "\n",
    "# 2.请使用以下音频数据处理方式中的1-2种方法处理上述数据集，将结果保存到/results/voice目录下。\n",
    "\n",
    "# 降噪和去干扰\n",
    "# 去混响\n",
    "# 端点检测\n",
    "# 音量归一化\n",
    "# 异常检测和修复\n",
    "\n",
    "# attention: 需要安装以下依赖库：\n",
    "# pip install librosa soundfile numpy matplotlib\n",
    "# 结果保存至：/result/voice"
   ]
  },
  {
   "cell_type": "code",
   "execution_count": 18,
   "id": "bed07598-2191-4368-a199-e67f00e3c0b5",
   "metadata": {
    "execution": {
     "iopub.execute_input": "2024-10-21T03:40:00.925035Z",
     "iopub.status.busy": "2024-10-21T03:40:00.924430Z",
     "iopub.status.idle": "2024-10-21T03:40:04.600557Z",
     "shell.execute_reply": "2024-10-21T03:40:04.599355Z",
     "shell.execute_reply.started": "2024-10-21T03:40:00.925007Z"
    },
    "scrolled": true
   },
   "outputs": [
    {
     "name": "stdout",
     "output_type": "stream",
     "text": [
      "Looking in indexes: https://mirror.baidu.com/pypi/simple/, https://mirrors.aliyun.com/pypi/simple/\r\n",
      "Requirement already satisfied: librosa in /opt/conda/envs/python35-paddle120-env/lib/python3.10/site-packages (0.10.2.post1)\r\n",
      "Requirement already satisfied: soundfile in /opt/conda/envs/python35-paddle120-env/lib/python3.10/site-packages (0.12.1)\r\n",
      "Requirement already satisfied: numpy in /opt/conda/envs/python35-paddle120-env/lib/python3.10/site-packages (1.26.4)\r\n",
      "Requirement already satisfied: matplotlib in /opt/conda/envs/python35-paddle120-env/lib/python3.10/site-packages (3.9.1)\r\n",
      "Requirement already satisfied: audioread>=2.1.9 in /opt/conda/envs/python35-paddle120-env/lib/python3.10/site-packages (from librosa) (3.0.1)\r\n",
      "Requirement already satisfied: scipy>=1.2.0 in /opt/conda/envs/python35-paddle120-env/lib/python3.10/site-packages (from librosa) (1.14.0)\r\n",
      "Requirement already satisfied: scikit-learn>=0.20.0 in /opt/conda/envs/python35-paddle120-env/lib/python3.10/site-packages (from librosa) (1.5.1)\r\n",
      "Requirement already satisfied: joblib>=0.14 in /opt/conda/envs/python35-paddle120-env/lib/python3.10/site-packages (from librosa) (1.4.2)\r\n",
      "Requirement already satisfied: decorator>=4.3.0 in /opt/conda/envs/python35-paddle120-env/lib/python3.10/site-packages (from librosa) (5.1.1)\r\n",
      "Requirement already satisfied: numba>=0.51.0 in /opt/conda/envs/python35-paddle120-env/lib/python3.10/site-packages (from librosa) (0.60.0)\r\n",
      "Requirement already satisfied: pooch>=1.1 in /opt/conda/envs/python35-paddle120-env/lib/python3.10/site-packages (from librosa) (1.8.2)\r\n",
      "Requirement already satisfied: soxr>=0.3.2 in /opt/conda/envs/python35-paddle120-env/lib/python3.10/site-packages (from librosa) (0.5.0.post1)\r\n",
      "Requirement already satisfied: typing-extensions>=4.1.1 in /opt/conda/envs/python35-paddle120-env/lib/python3.10/site-packages (from librosa) (4.12.2)\r\n",
      "Requirement already satisfied: lazy-loader>=0.1 in /opt/conda/envs/python35-paddle120-env/lib/python3.10/site-packages (from librosa) (0.4)\r\n",
      "Requirement already satisfied: msgpack>=1.0 in /opt/conda/envs/python35-paddle120-env/lib/python3.10/site-packages (from librosa) (1.1.0)\r\n",
      "Requirement already satisfied: cffi>=1.0 in /opt/conda/envs/python35-paddle120-env/lib/python3.10/site-packages (from soundfile) (1.17.1)\r\n",
      "Requirement already satisfied: contourpy>=1.0.1 in /opt/conda/envs/python35-paddle120-env/lib/python3.10/site-packages (from matplotlib) (1.2.1)\r\n",
      "Requirement already satisfied: cycler>=0.10 in /opt/conda/envs/python35-paddle120-env/lib/python3.10/site-packages (from matplotlib) (0.12.1)\r\n",
      "Requirement already satisfied: fonttools>=4.22.0 in /opt/conda/envs/python35-paddle120-env/lib/python3.10/site-packages (from matplotlib) (4.53.0)\r\n",
      "Requirement already satisfied: kiwisolver>=1.3.1 in /opt/conda/envs/python35-paddle120-env/lib/python3.10/site-packages (from matplotlib) (1.4.5)\r\n",
      "Requirement already satisfied: packaging>=20.0 in /opt/conda/envs/python35-paddle120-env/lib/python3.10/site-packages (from matplotlib) (24.1)\r\n",
      "Requirement already satisfied: pillow>=8 in /opt/conda/envs/python35-paddle120-env/lib/python3.10/site-packages (from matplotlib) (10.4.0)\r\n",
      "Requirement already satisfied: pyparsing>=2.3.1 in /opt/conda/envs/python35-paddle120-env/lib/python3.10/site-packages (from matplotlib) (3.1.2)\r\n",
      "Requirement already satisfied: python-dateutil>=2.7 in /opt/conda/envs/python35-paddle120-env/lib/python3.10/site-packages (from matplotlib) (2.9.0.post0)\r\n",
      "Requirement already satisfied: pycparser in /opt/conda/envs/python35-paddle120-env/lib/python3.10/site-packages (from cffi>=1.0->soundfile) (2.22)\r\n",
      "Requirement already satisfied: llvmlite<0.44,>=0.43.0dev0 in /opt/conda/envs/python35-paddle120-env/lib/python3.10/site-packages (from numba>=0.51.0->librosa) (0.43.0)\r\n",
      "Requirement already satisfied: platformdirs>=2.5.0 in /opt/conda/envs/python35-paddle120-env/lib/python3.10/site-packages (from pooch>=1.1->librosa) (4.2.2)\r\n",
      "Requirement already satisfied: requests>=2.19.0 in /opt/conda/envs/python35-paddle120-env/lib/python3.10/site-packages (from pooch>=1.1->librosa) (2.32.3)\r\n",
      "Requirement already satisfied: six>=1.5 in /opt/conda/envs/python35-paddle120-env/lib/python3.10/site-packages (from python-dateutil>=2.7->matplotlib) (1.16.0)\r\n",
      "Requirement already satisfied: threadpoolctl>=3.1.0 in /opt/conda/envs/python35-paddle120-env/lib/python3.10/site-packages (from scikit-learn>=0.20.0->librosa) (3.5.0)\r\n",
      "Requirement already satisfied: charset-normalizer<4,>=2 in /opt/conda/envs/python35-paddle120-env/lib/python3.10/site-packages (from requests>=2.19.0->pooch>=1.1->librosa) (3.3.2)\r\n",
      "Requirement already satisfied: idna<4,>=2.5 in /opt/conda/envs/python35-paddle120-env/lib/python3.10/site-packages (from requests>=2.19.0->pooch>=1.1->librosa) (3.7)\r\n",
      "Requirement already satisfied: urllib3<3,>=1.21.1 in /opt/conda/envs/python35-paddle120-env/lib/python3.10/site-packages (from requests>=2.19.0->pooch>=1.1->librosa) (2.2.2)\r\n",
      "Requirement already satisfied: certifi>=2017.4.17 in /opt/conda/envs/python35-paddle120-env/lib/python3.10/site-packages (from requests>=2.19.0->pooch>=1.1->librosa) (2024.7.4)\r\n",
      "Note: you may need to restart the kernel to use updated packages.\r\n"
     ]
    }
   ],
   "source": [
    "pip install librosa soundfile numpy matplotlib"
   ]
  },
  {
   "cell_type": "code",
   "execution_count": 19,
   "id": "2e57d071-5076-4087-9fa3-d099f4f49678",
   "metadata": {
    "execution": {
     "iopub.execute_input": "2024-10-21T03:40:04.602476Z",
     "iopub.status.busy": "2024-10-21T03:40:04.601929Z",
     "iopub.status.idle": "2024-10-21T03:40:04.607349Z",
     "shell.execute_reply": "2024-10-21T03:40:04.606597Z",
     "shell.execute_reply.started": "2024-10-21T03:40:04.602443Z"
    },
    "scrolled": true
   },
   "outputs": [],
   "source": [
    "import os\n",
    "import librosa\n",
    "import numpy as np\n",
    "import soundfile as sf\n",
    "import matplotlib.pyplot as plt\n",
    "from scipy.signal import fftconvolve"
   ]
  },
  {
   "cell_type": "code",
   "execution_count": 20,
   "id": "2a08ceca-de4b-4a97-bf17-bd4ebeb7ac8f",
   "metadata": {
    "execution": {
     "iopub.execute_input": "2024-10-21T03:40:04.609234Z",
     "iopub.status.busy": "2024-10-21T03:40:04.608591Z",
     "iopub.status.idle": "2024-10-21T03:40:04.613671Z",
     "shell.execute_reply": "2024-10-21T03:40:04.612911Z",
     "shell.execute_reply.started": "2024-10-21T03:40:04.609205Z"
    },
    "scrolled": true
   },
   "outputs": [],
   "source": [
    "# 1. 加载音频文件\n",
    "def load_audio(file_path):\n",
    "    \"\"\"\n",
    "    加载音频文件，并返回音频数据和采样率。\n",
    "    \"\"\"\n",
    "    audio_data, sample_rate = librosa.load(file_path, sr=None)\n",
    "    return audio_data, sample_rate"
   ]
  },
  {
   "cell_type": "code",
   "execution_count": 21,
   "id": "15b9fa53-485a-4f21-9949-0891703b914c",
   "metadata": {
    "execution": {
     "iopub.execute_input": "2024-10-21T03:40:04.617179Z",
     "iopub.status.busy": "2024-10-21T03:40:04.616228Z",
     "iopub.status.idle": "2024-10-21T03:40:04.621712Z",
     "shell.execute_reply": "2024-10-21T03:40:04.620895Z",
     "shell.execute_reply.started": "2024-10-21T03:40:04.617152Z"
    },
    "scrolled": true
   },
   "outputs": [],
   "source": [
    "# 2. 降噪和去干扰\n",
    "def noise_reduction(audio_data, noise_factor=0.02):\n",
    "    \"\"\"\n",
    "    使用简单的噪声添加和去除方式来处理音频干扰。\n",
    "    参数：\n",
    "    - audio_data: 输入的音频信号\n",
    "    - noise_factor: 噪声强度\n",
    "    返回：\n",
    "    - 处理后的音频数据\n",
    "    \"\"\"\n",
    "    # 随机生成噪声\n",
    "    noise = noise_factor * np.random.randn(len(audio_data))\n",
    "    # 将噪声添加到音频信号中\n",
    "    noisy_audio = audio_data + noise\n",
    "    return noisy_audio"
   ]
  },
  {
   "cell_type": "code",
   "execution_count": 22,
   "id": "96319e19-6778-493d-a8d1-31bcf29e70cd",
   "metadata": {
    "execution": {
     "iopub.execute_input": "2024-10-21T03:40:04.623217Z",
     "iopub.status.busy": "2024-10-21T03:40:04.622880Z",
     "iopub.status.idle": "2024-10-21T03:40:04.628847Z",
     "shell.execute_reply": "2024-10-21T03:40:04.627670Z",
     "shell.execute_reply.started": "2024-10-21T03:40:04.623193Z"
    },
    "scrolled": true
   },
   "outputs": [],
   "source": [
    "# 3. 去混响\n",
    "def dereverberation(audio_data, sample_rate, room_scale=0.1):\n",
    "    \"\"\"\n",
    "    使用简单的滤波方法去除混响。\n",
    "    \"\"\"\n",
    "    impulse_response = np.random.randn(int(room_scale * sample_rate))\n",
    "    dereverbed_audio = fftconvolve(audio_data, impulse_response, mode='full')[:len(audio_data)]\n",
    "    return dereverbed_audio"
   ]
  },
  {
   "cell_type": "code",
   "execution_count": 23,
   "id": "80122c73-89eb-4da0-b041-eead22effc8e",
   "metadata": {
    "execution": {
     "iopub.execute_input": "2024-10-21T03:40:04.631117Z",
     "iopub.status.busy": "2024-10-21T03:40:04.630159Z",
     "iopub.status.idle": "2024-10-21T03:40:04.637439Z",
     "shell.execute_reply": "2024-10-21T03:40:04.636587Z",
     "shell.execute_reply.started": "2024-10-21T03:40:04.631058Z"
    },
    "scrolled": true
   },
   "outputs": [],
   "source": [
    "# 4. 端点检测\n",
    "def endpoint_detection(audio_data, sample_rate, threshold=0.02):\n",
    "    \"\"\"\n",
    "    实现简单的端点检测，返回音频中语音部分的开始和结束点。\n",
    "    \"\"\"\n",
    "    energy = librosa.feature.rms(y=audio_data)[0]\n",
    "    frames = np.nonzero(energy > threshold)[0]\n",
    "    indices = librosa.frames_to_samples(frames)\n",
    "    start, end = indices[0], indices[-1]\n",
    "    return audio_data[start:end]"
   ]
  },
  {
   "cell_type": "code",
   "execution_count": 24,
   "id": "b68c3848-4553-4d68-8ab6-d0ed1c77e05b",
   "metadata": {
    "execution": {
     "iopub.execute_input": "2024-10-21T03:40:04.639339Z",
     "iopub.status.busy": "2024-10-21T03:40:04.638798Z",
     "iopub.status.idle": "2024-10-21T03:40:04.645144Z",
     "shell.execute_reply": "2024-10-21T03:40:04.644158Z",
     "shell.execute_reply.started": "2024-10-21T03:40:04.639298Z"
    },
    "scrolled": true
   },
   "outputs": [],
   "source": [
    "# 5. 音量归一化\n",
    "def normalize_audio(audio_data):\n",
    "    \"\"\"\n",
    "    将音频数据进行音量归一化，使最大音量达到标准范围。\n",
    "    \"\"\"\n",
    "    max_amplitude = np.max(np.abs(audio_data))\n",
    "    normalized_audio = audio_data / max_amplitude\n",
    "    return normalized_audio"
   ]
  },
  {
   "cell_type": "code",
   "execution_count": 25,
   "id": "5d7e4d40-698a-4c1e-9da4-f26795dd60b7",
   "metadata": {
    "execution": {
     "iopub.execute_input": "2024-10-21T03:40:04.682209Z",
     "iopub.status.busy": "2024-10-21T03:40:04.646317Z",
     "iopub.status.idle": "2024-10-21T03:40:04.688536Z",
     "shell.execute_reply": "2024-10-21T03:40:04.687690Z",
     "shell.execute_reply.started": "2024-10-21T03:40:04.682141Z"
    },
    "scrolled": true
   },
   "outputs": [],
   "source": [
    "# 6. 异常检测和修复\n",
    "def detect_and_repair_anomalies(audio_data, sample_rate, anomaly_threshold=0.1):\n",
    "    \"\"\"\n",
    "    检测音频中的异常，并尝试修复。\n",
    "    \"\"\"\n",
    "    anomalies = np.where(np.abs(audio_data) > anomaly_threshold)[0]\n",
    "    if len(anomalies) > 0:\n",
    "        repaired_audio = np.copy(audio_data)\n",
    "        for anomaly in anomalies:\n",
    "            # 简单修复：将异常的样本替换为其前后样本的平均值\n",
    "            if 1 < anomaly < len(audio_data) - 1:\n",
    "                repaired_audio[anomaly] = (audio_data[anomaly - 1] + audio_data[anomaly + 1]) / 2\n",
    "        return repaired_audio\n",
    "    return audio_data"
   ]
  },
  {
   "cell_type": "code",
   "execution_count": 26,
   "id": "14ac12d1-3a9d-4192-ac06-ab4523283800",
   "metadata": {
    "execution": {
     "iopub.execute_input": "2024-10-21T03:40:04.690017Z",
     "iopub.status.busy": "2024-10-21T03:40:04.689604Z",
     "iopub.status.idle": "2024-10-21T03:40:04.694832Z",
     "shell.execute_reply": "2024-10-21T03:40:04.694101Z",
     "shell.execute_reply.started": "2024-10-21T03:40:04.689989Z"
    },
    "scrolled": true
   },
   "outputs": [],
   "source": [
    "# 7. 保存音频文件\n",
    "def save_audio(file_path, audio_data, sample_rate):\n",
    "    \"\"\"\n",
    "    将处理后的音频数据保存到文件中。\n",
    "    \"\"\"\n",
    "    sf.write(file_path, audio_data, sample_rate)"
   ]
  },
  {
   "cell_type": "code",
   "execution_count": 27,
   "id": "0d888487-9ff3-4ea9-99dd-71e09e884a09",
   "metadata": {
    "execution": {
     "iopub.execute_input": "2024-10-21T03:40:04.696236Z",
     "iopub.status.busy": "2024-10-21T03:40:04.695873Z",
     "iopub.status.idle": "2024-10-21T03:40:04.701051Z",
     "shell.execute_reply": "2024-10-21T03:40:04.700142Z",
     "shell.execute_reply.started": "2024-10-21T03:40:04.696211Z"
    },
    "scrolled": true
   },
   "outputs": [],
   "source": [
    "# 8. 绘制并保存波形图\n",
    "def plot_waveform(audio_data, sample_rate, title, file_path):\n",
    "    plt.figure(figsize=(10, 4))\n",
    "    librosa.display.waveshow(audio_data, sr=sample_rate)\n",
    "    plt.title(title)\n",
    "    plt.tight_layout()\n",
    "    plt.savefig(file_path)\n",
    "    plt.close()"
   ]
  },
  {
   "cell_type": "code",
   "execution_count": 28,
   "id": "03580bae-7420-4833-9c46-db694906d5eb",
   "metadata": {
    "execution": {
     "iopub.execute_input": "2024-10-21T03:40:04.702508Z",
     "iopub.status.busy": "2024-10-21T03:40:04.702164Z",
     "iopub.status.idle": "2024-10-21T03:40:04.711762Z",
     "shell.execute_reply": "2024-10-21T03:40:04.710826Z",
     "shell.execute_reply.started": "2024-10-21T03:40:04.702483Z"
    },
    "scrolled": true
   },
   "outputs": [],
   "source": [
    "# 主流程 - 处理音频文件\n",
    "def process_audio_files(input_directory, output_directory):\n",
    "    # 获取目录下所有音频文件\n",
    "    audio_files = [f for f in os.listdir(input_directory) if f.endswith(('.wav', '.mp3'))]\n",
    "    \n",
    "    for audio_file in audio_files:\n",
    "        file_path = os.path.join(input_directory, audio_file)\n",
    "        \n",
    "        # 为每个音频文件创建一个单独的文件夹\n",
    "        audio_name = os.path.splitext(audio_file)[0]  # 去掉扩展名\n",
    "        audio_output_dir = os.path.join(output_directory, audio_name)\n",
    "        os.makedirs(audio_output_dir, exist_ok=True)\n",
    "        \n",
    "        # 加载音频文件\n",
    "        audio_data, sample_rate = load_audio(file_path)\n",
    "        \n",
    "        # 保存并可视化原始音频波形\n",
    "        plot_waveform(audio_data, sample_rate, \"Original Audio\", os.path.join(audio_output_dir, f\"{audio_name}_original.png\"))\n",
    "        \n",
    "        # 降噪和去干扰\n",
    "        audio_data = noise_reduction(audio_data)\n",
    "        plot_waveform(audio_data, sample_rate, \"Noise Reduction\", os.path.join(audio_output_dir, f\"{audio_name}_noise_reduction.png\"))\n",
    "        \n",
    "        # 去混响\n",
    "        audio_data = dereverberation(audio_data, sample_rate)\n",
    "        plot_waveform(audio_data, sample_rate, \"Dereverberation\", os.path.join(audio_output_dir, f\"{audio_name}_dereverberation.png\"))\n",
    "        \n",
    "        # 端点检测\n",
    "        audio_data = endpoint_detection(audio_data, sample_rate)\n",
    "        plot_waveform(audio_data, sample_rate, \"Endpoint Detection\", os.path.join(audio_output_dir, f\"{audio_name}_endpoint_detection.png\"))\n",
    "        \n",
    "        # 音量归一化\n",
    "        audio_data = normalize_audio(audio_data)\n",
    "        plot_waveform(audio_data, sample_rate, \"Volume Normalization\", os.path.join(audio_output_dir, f\"{audio_name}_volume_normalization.png\"))\n",
    "        \n",
    "        # 异常检测和修复\n",
    "        audio_data = detect_and_repair_anomalies(audio_data, sample_rate)\n",
    "        plot_waveform(audio_data, sample_rate, \"Anomaly Detection and Repair\", os.path.join(audio_output_dir, f\"{audio_name}_anomaly_repair.png\"))\n",
    "        \n",
    "        # 保存处理后的音频\n",
    "        output_file_path = os.path.join(audio_output_dir, f\"processed_{audio_file}\")\n",
    "        save_audio(output_file_path, audio_data, sample_rate)\n",
    "        \n",
    "        print(f\"Processed {audio_file} - Saved to {output_file_path}\")"
   ]
  },
  {
   "cell_type": "code",
   "execution_count": 29,
   "id": "17782180-5477-4fd3-8334-e71fa855248d",
   "metadata": {
    "execution": {
     "iopub.execute_input": "2024-10-21T03:40:04.713421Z",
     "iopub.status.busy": "2024-10-21T03:40:04.713056Z",
     "iopub.status.idle": "2024-10-21T03:42:15.022516Z",
     "shell.execute_reply": "2024-10-21T03:42:15.021716Z",
     "shell.execute_reply.started": "2024-10-21T03:40:04.713395Z"
    },
    "scrolled": true,
    "tags": []
   },
   "outputs": [
    {
     "name": "stdout",
     "output_type": "stream",
     "text": [
      "Processed 201-sad-zhaoquanyin.wav - Saved to /home/aistudio/result/voice/201-sad-zhaoquanyin/processed_201-sad-zhaoquanyin.wav\r\n",
      "Processed 202-sad-zhaoquanyin.wav - Saved to /home/aistudio/result/voice/202-sad-zhaoquanyin/processed_202-sad-zhaoquanyin.wav\r\n",
      "Processed 202-happy-ZhaoZuoxiang.wav - Saved to /home/aistudio/result/voice/202-happy-ZhaoZuoxiang/processed_202-happy-ZhaoZuoxiang.wav\r\n",
      "Processed 201-sad-liuchanhg.wav - Saved to /home/aistudio/result/voice/201-sad-liuchanhg/processed_201-sad-liuchanhg.wav\r\n",
      "Processed 203-sad-wangzhe.wav - Saved to /home/aistudio/result/voice/203-sad-wangzhe/processed_203-sad-wangzhe.wav\r\n",
      "Processed 203-happy-wangzhe.wav - Saved to /home/aistudio/result/voice/203-happy-wangzhe/processed_203-happy-wangzhe.wav\r\n",
      "Processed 201-happy-wangzhe.wav - Saved to /home/aistudio/result/voice/201-happy-wangzhe/processed_201-happy-wangzhe.wav\r\n",
      "Processed 201-happy-ZhaoZuoxiang.wav - Saved to /home/aistudio/result/voice/201-happy-ZhaoZuoxiang/processed_201-happy-ZhaoZuoxiang.wav\r\n",
      "Processed 203-happy-liuchanhg.wav - Saved to /home/aistudio/result/voice/203-happy-liuchanhg/processed_203-happy-liuchanhg.wav\r\n",
      "Processed 202-sad-ZhaoZuoxiang.wav - Saved to /home/aistudio/result/voice/202-sad-ZhaoZuoxiang/processed_202-sad-ZhaoZuoxiang.wav\r\n",
      "Processed 202-sad-wangzhe.wav - Saved to /home/aistudio/result/voice/202-sad-wangzhe/processed_202-sad-wangzhe.wav\r\n",
      "Processed 202-happy-wangzhe.wav - Saved to /home/aistudio/result/voice/202-happy-wangzhe/processed_202-happy-wangzhe.wav\r\n",
      "Processed 201-happy-liuchanhg.wav - Saved to /home/aistudio/result/voice/201-happy-liuchanhg/processed_201-happy-liuchanhg.wav\r\n",
      "Processed 202-happy-zhaoquanyin.wav - Saved to /home/aistudio/result/voice/202-happy-zhaoquanyin/processed_202-happy-zhaoquanyin.wav\r\n",
      "Processed 202-happy-liuchanhg.wav - Saved to /home/aistudio/result/voice/202-happy-liuchanhg/processed_202-happy-liuchanhg.wav\r\n",
      "Processed 201-sad-ZhaoZuoxiang.wav - Saved to /home/aistudio/result/voice/201-sad-ZhaoZuoxiang/processed_201-sad-ZhaoZuoxiang.wav\r\n",
      "Processed 201-happy-zhaoquanyin.wav - Saved to /home/aistudio/result/voice/201-happy-zhaoquanyin/processed_201-happy-zhaoquanyin.wav\r\n",
      "Processed 202-sad-liuchanhg.wav - Saved to /home/aistudio/result/voice/202-sad-liuchanhg/processed_202-sad-liuchanhg.wav\r\n",
      "Processed 203-sad-liuchanhg.wav - Saved to /home/aistudio/result/voice/203-sad-liuchanhg/processed_203-sad-liuchanhg.wav\r\n",
      "Processed 201-sad-wangzhe.wav - Saved to /home/aistudio/result/voice/201-sad-wangzhe/processed_201-sad-wangzhe.wav\r\n"
     ]
    }
   ],
   "source": [
    "# 运行主程序\n",
    "if __name__ == '__main__':\n",
    "    input_directory = '/home/aistudio/datasets/voice/'  # 输入图像所在的目录\n",
    "    output_directory = '/home/aistudio/result/voice/'  # 输出图像存储的根目录\n",
    "    \n",
    "    # 确保输出目录存在\n",
    "    os.makedirs(output_directory, exist_ok=True)\n",
    "    \n",
    "    # 处理音频文件\n",
    "    process_audio_files(input_directory, output_directory)"
   ]
  }
 ],
 "metadata": {
  "kernelspec": {
   "display_name": "Python 3",
   "language": "python",
   "name": "py35-paddle1.2.0"
  },
  "language_info": {
   "codemirror_mode": {
    "name": "ipython",
    "version": 3
   },
   "file_extension": ".py",
   "mimetype": "text/x-python",
   "name": "python",
   "nbconvert_exporter": "python",
   "pygments_lexer": "ipython3",
   "version": "3.10.10"
  }
 },
 "nbformat": 4,
 "nbformat_minor": 5
}
