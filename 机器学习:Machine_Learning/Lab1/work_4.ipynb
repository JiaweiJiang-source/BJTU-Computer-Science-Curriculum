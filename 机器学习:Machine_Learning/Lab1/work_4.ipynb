{
 "cells": [
  {
   "cell_type": "code",
   "execution_count": 1,
   "id": "17465ae4-2080-4fb3-a33f-db42ffa6da91",
   "metadata": {
    "execution": {
     "iopub.execute_input": "2024-10-21T04:12:01.207477Z",
     "iopub.status.busy": "2024-10-21T04:12:01.206837Z",
     "iopub.status.idle": "2024-10-21T04:12:01.211931Z",
     "shell.execute_reply": "2024-10-21T04:12:01.210914Z",
     "shell.execute_reply.started": "2024-10-21T04:12:01.207439Z"
    },
    "scrolled": true
   },
   "outputs": [],
   "source": [
    "# 作业四：视频数据集数据处理（选做）\n",
    "\n",
    "# 1.数据集：使用AI Studio平台作业项目中的/datasets/video中的数据集。\n",
    "\n",
    "# 2.请使用以下视频数据处理方式中的1-2种方法处理上述数据集，将结果保存到/results/video目录下。\n",
    "\n",
    "# 使用时间滤波，对连续帧进行平均或加权平均\n",
    "# 使用空间滤波中的高斯滤波对视频进行处理\n",
    "# 使用空间滤波中的中值滤波对视频进行处理\n",
    "\n",
    "# attention: 需要安装以下依赖库：\n",
    "# pip install opencv-python numpy\n",
    "# 结果输出路径为：/result/video/"
   ]
  },
  {
   "cell_type": "code",
   "execution_count": 1,
   "id": "f81a2a41-7ce3-4b41-ae5b-00d8ef3ada60",
   "metadata": {
    "execution": {
     "iopub.execute_input": "2024-10-28T09:17:18.027727Z",
     "iopub.status.busy": "2024-10-28T09:17:18.026971Z",
     "iopub.status.idle": "2024-10-28T09:17:18.034668Z",
     "shell.execute_reply": "2024-10-28T09:17:18.033453Z",
     "shell.execute_reply.started": "2024-10-28T09:17:18.027674Z"
    },
    "scrolled": true,
    "tags": []
   },
   "outputs": [
    {
     "name": "stdout",
     "output_type": "stream",
     "text": [
      "Cannot run install torch because of system compatibility. AI Studio prepared an entire environment based on PaddlePaddle already. Please use PaddlePaddle to build your own model or application.\r\n"
     ]
    }
   ],
   "source": [
    "pip install opencv-python numpy"
   ]
  },
  {
   "cell_type": "code",
   "execution_count": 3,
   "id": "9d7ef825-edce-430a-91ca-3333c7dd813c",
   "metadata": {
    "execution": {
     "iopub.execute_input": "2024-10-21T04:12:03.707445Z",
     "iopub.status.busy": "2024-10-21T04:12:03.706873Z",
     "iopub.status.idle": "2024-10-21T04:12:04.192505Z",
     "shell.execute_reply": "2024-10-21T04:12:04.191299Z",
     "shell.execute_reply.started": "2024-10-21T04:12:03.707397Z"
    },
    "scrolled": true
   },
   "outputs": [],
   "source": [
    "import os\n",
    "import cv2\n",
    "import numpy as np"
   ]
  },
  {
   "cell_type": "code",
   "execution_count": 4,
   "id": "5f0a37a4-e749-4bd4-85ba-ae081a98193e",
   "metadata": {
    "execution": {
     "iopub.execute_input": "2024-10-21T04:12:04.194119Z",
     "iopub.status.busy": "2024-10-21T04:12:04.193697Z",
     "iopub.status.idle": "2024-10-21T04:12:04.198521Z",
     "shell.execute_reply": "2024-10-21T04:12:04.197889Z",
     "shell.execute_reply.started": "2024-10-21T04:12:04.194093Z"
    },
    "scrolled": true
   },
   "outputs": [],
   "source": [
    "# 1. 加载视频\n",
    "def load_video(file_path):\n",
    "    cap = cv2.VideoCapture(file_path)\n",
    "    frames = []\n",
    "    \n",
    "    while True:\n",
    "        ret, frame = cap.read()\n",
    "        if not ret:\n",
    "            break\n",
    "        frames.append(frame)\n",
    "    \n",
    "    cap.release()\n",
    "    return frames"
   ]
  },
  {
   "cell_type": "code",
   "execution_count": 5,
   "id": "bd658db4-f635-4686-b528-457dc7fbd69d",
   "metadata": {
    "execution": {
     "iopub.execute_input": "2024-10-21T04:12:04.200776Z",
     "iopub.status.busy": "2024-10-21T04:12:04.200274Z",
     "iopub.status.idle": "2024-10-21T04:12:04.205034Z",
     "shell.execute_reply": "2024-10-21T04:12:04.204450Z",
     "shell.execute_reply.started": "2024-10-21T04:12:04.200752Z"
    },
    "scrolled": true
   },
   "outputs": [],
   "source": [
    "# 2. 保存视频\n",
    "def save_video(frames, output_path, fps=30):\n",
    "    height, width, layers = frames[0].shape\n",
    "    fourcc = cv2.VideoWriter_fourcc(*'mp4v')\n",
    "    video = cv2.VideoWriter(output_path, fourcc, fps, (width, height))\n",
    "    \n",
    "    for frame in frames:\n",
    "        video.write(frame)\n",
    "    \n",
    "    video.release()"
   ]
  },
  {
   "cell_type": "code",
   "execution_count": 6,
   "id": "452a55c1-3286-4f02-a45b-4cad222e3f6a",
   "metadata": {
    "execution": {
     "iopub.execute_input": "2024-10-21T04:12:04.206234Z",
     "iopub.status.busy": "2024-10-21T04:12:04.205820Z",
     "iopub.status.idle": "2024-10-21T04:12:04.210925Z",
     "shell.execute_reply": "2024-10-21T04:12:04.210318Z",
     "shell.execute_reply.started": "2024-10-21T04:12:04.206212Z"
    },
    "scrolled": true
   },
   "outputs": [],
   "source": [
    "# 3. 时间滤波（帧平均）\n",
    "def temporal_filter(frames, window_size=3):\n",
    "    \"\"\"\n",
    "    对视频帧进行时间滤波，连续帧进行平均。\n",
    "    参数：\n",
    "    - frames: 视频帧列表\n",
    "    - window_size: 时间滤波窗口大小（默认为3）\n",
    "    返回：处理后的帧列表\n",
    "    \"\"\"\n",
    "    filtered_frames = []\n",
    "    for i in range(len(frames)):\n",
    "        start = max(0, i - window_size // 2)\n",
    "        end = min(len(frames), i + window_size // 2 + 1)\n",
    "        avg_frame = np.mean(frames[start:end], axis=0).astype(np.uint8)\n",
    "        filtered_frames.append(avg_frame)\n",
    "    \n",
    "    return filtered_frames\n"
   ]
  },
  {
   "cell_type": "code",
   "execution_count": 7,
   "id": "0967c328-8974-4951-b501-0dfda6e3a49e",
   "metadata": {
    "execution": {
     "iopub.execute_input": "2024-10-21T04:12:04.211992Z",
     "iopub.status.busy": "2024-10-21T04:12:04.211712Z",
     "iopub.status.idle": "2024-10-21T04:12:04.215792Z",
     "shell.execute_reply": "2024-10-21T04:12:04.215106Z",
     "shell.execute_reply.started": "2024-10-21T04:12:04.211971Z"
    },
    "scrolled": true
   },
   "outputs": [],
   "source": [
    "# 4. 高斯滤波\n",
    "def apply_gaussian_filter(frames, kernel_size=5):\n",
    "    \"\"\"\n",
    "    对视频的每一帧进行高斯滤波处理。\n",
    "    参数：\n",
    "    - frames: 视频帧列表\n",
    "    - kernel_size: 高斯滤波的卷积核大小\n",
    "    返回：处理后的帧列表\n",
    "    \"\"\"\n",
    "    filtered_frames = [cv2.GaussianBlur(frame, (kernel_size, kernel_size), 0) for frame in frames]\n",
    "    return filtered_frames"
   ]
  },
  {
   "cell_type": "code",
   "execution_count": 8,
   "id": "ef5c14a6-cc31-49d4-8120-e639b545d5e0",
   "metadata": {
    "execution": {
     "iopub.execute_input": "2024-10-21T04:12:04.216897Z",
     "iopub.status.busy": "2024-10-21T04:12:04.216591Z",
     "iopub.status.idle": "2024-10-21T04:12:04.220831Z",
     "shell.execute_reply": "2024-10-21T04:12:04.220159Z",
     "shell.execute_reply.started": "2024-10-21T04:12:04.216876Z"
    },
    "scrolled": true
   },
   "outputs": [],
   "source": [
    "# 5. 中值滤波\n",
    "def apply_median_filter(frames, kernel_size=5):\n",
    "    \"\"\"\n",
    "    对视频的每一帧进行中值滤波处理。\n",
    "    参数：\n",
    "    - frames: 视频帧列表\n",
    "    - kernel_size: 中值滤波的卷积核大小\n",
    "    返回：处理后的帧列表\n",
    "    \"\"\"\n",
    "    filtered_frames = [cv2.medianBlur(frame, kernel_size) for frame in frames]\n",
    "    return filtered_frames"
   ]
  },
  {
   "cell_type": "code",
   "execution_count": 9,
   "id": "c511ead6-4434-4290-827a-20c81a466b8c",
   "metadata": {
    "execution": {
     "iopub.execute_input": "2024-10-21T04:12:04.222508Z",
     "iopub.status.busy": "2024-10-21T04:12:04.221854Z",
     "iopub.status.idle": "2024-10-21T04:12:04.229169Z",
     "shell.execute_reply": "2024-10-21T04:12:04.228448Z",
     "shell.execute_reply.started": "2024-10-21T04:12:04.222474Z"
    },
    "scrolled": true
   },
   "outputs": [],
   "source": [
    "# 主流程 - 处理目录中的所有视频文件\n",
    "def process_videos_in_directory(input_directory, output_directory):\n",
    "    # 获取目录下所有视频文件\n",
    "    video_files = [f for f in os.listdir(input_directory) if f.endswith(('.mp4', '.avi'))]\n",
    "    \n",
    "    for video_file in video_files:\n",
    "        file_path = os.path.join(input_directory, video_file)\n",
    "        print(f\"Processing {video_file}...\")\n",
    "        \n",
    "        # 加载视频帧\n",
    "        frames = load_video(file_path)\n",
    "        \n",
    "        # 1. 时间滤波处理\n",
    "        temporal_filtered_frames = temporal_filter(frames)\n",
    "        save_video(temporal_filtered_frames, os.path.join(output_directory, f\"temporal_filtered_{video_file}\"))\n",
    "        \n",
    "        # 2. 高斯滤波处理\n",
    "        gaussian_filtered_frames = apply_gaussian_filter(frames)\n",
    "        save_video(gaussian_filtered_frames, os.path.join(output_directory, f\"gaussian_filtered_{video_file}\"))\n",
    "        \n",
    "        # 3. 中值滤波处理\n",
    "        median_filtered_frames = apply_median_filter(frames)\n",
    "        save_video(median_filtered_frames, os.path.join(output_directory, f\"median_filtered_{video_file}\"))\n",
    "        \n",
    "        print(f\"Finished processing {video_file}\")"
   ]
  },
  {
   "cell_type": "code",
   "execution_count": 10,
   "id": "94c5f9fb-3518-4365-a6f7-860321168838",
   "metadata": {
    "execution": {
     "iopub.execute_input": "2024-10-21T04:12:04.230521Z",
     "iopub.status.busy": "2024-10-21T04:12:04.230159Z",
     "iopub.status.idle": "2024-10-21T04:12:19.568791Z",
     "shell.execute_reply": "2024-10-21T04:12:19.567575Z",
     "shell.execute_reply.started": "2024-10-21T04:12:04.230493Z"
    },
    "scrolled": true,
    "tags": []
   },
   "outputs": [
    {
     "name": "stdout",
     "output_type": "stream",
     "text": [
      "Processing v_HorseRace_g22_c03.avi...\r\n",
      "Finished processing v_HorseRace_g22_c03.avi\r\n",
      "Processing v_HorseRace_g22_c04.avi...\r\n",
      "Finished processing v_HorseRace_g22_c04.avi\r\n",
      "Processing v_HorseRace_g21_c05.avi...\r\n",
      "Finished processing v_HorseRace_g21_c05.avi\r\n",
      "Processing v_HorseRace_g22_c01.avi...\r\n",
      "Finished processing v_HorseRace_g22_c01.avi\r\n",
      "Processing v_HorseRace_g21_c03.avi...\r\n",
      "Finished processing v_HorseRace_g21_c03.avi\r\n",
      "Processing v_HorseRace_g21_c01.avi...\r\n",
      "Finished processing v_HorseRace_g21_c01.avi\r\n",
      "Processing v_HorseRace_g23_c01.avi...\r\n",
      "Finished processing v_HorseRace_g23_c01.avi\r\n",
      "Processing v_HorseRace_g21_c02.avi...\r\n",
      "Finished processing v_HorseRace_g21_c02.avi\r\n",
      "Processing v_HorseRace_g21_c04.avi...\r\n",
      "Finished processing v_HorseRace_g21_c04.avi\r\n",
      "Processing v_HorseRace_g22_c02.avi...\r\n",
      "Finished processing v_HorseRace_g22_c02.avi\r\n"
     ]
    }
   ],
   "source": [
    "# 运行主程序\n",
    "if __name__ == '__main__':\n",
    "    input_directory = '/home/aistudio/datasets/video/'  # 输入图像所在的目录\n",
    "    output_directory = '/home/aistudio/result/video/'  # 输出图像存储的根目录\n",
    "    \n",
    "    # 确保输出目录存在\n",
    "    os.makedirs(output_directory, exist_ok=True)\n",
    "    \n",
    "    # 处理视频文件\n",
    "    process_videos_in_directory(input_directory, output_directory)"
   ]
  }
 ],
 "metadata": {
  "kernelspec": {
   "display_name": "Python 3",
   "language": "python",
   "name": "py35-paddle1.2.0"
  },
  "language_info": {
   "codemirror_mode": {
    "name": "ipython",
    "version": 3
   },
   "file_extension": ".py",
   "mimetype": "text/x-python",
   "name": "python",
   "nbconvert_exporter": "python",
   "pygments_lexer": "ipython3",
   "version": "3.10.10"
  }
 },
 "nbformat": 4,
 "nbformat_minor": 5
}
