{
 "cells": [
  {
   "cell_type": "code",
   "execution_count": 10,
   "id": "e551608c-db5d-4cf6-bf95-29aa9ebd0a51",
   "metadata": {
    "execution": {
     "iopub.execute_input": "2024-10-21T02:53:40.257440Z",
     "iopub.status.busy": "2024-10-21T02:53:40.256702Z",
     "iopub.status.idle": "2024-10-21T02:53:40.262454Z",
     "shell.execute_reply": "2024-10-21T02:53:40.261401Z",
     "shell.execute_reply.started": "2024-10-21T02:53:40.257408Z"
    },
    "scrolled": true
   },
   "outputs": [],
   "source": [
    "# work2\n",
    "# 1.数据集：使用AI Studio平台作业项目中的/datasets/image中的数据集。\n",
    "\n",
    "# 2.图像数据处理方式：\n",
    "\n",
    "# 使用高斯、瑞利、伽马、均匀和椒盐等噪声中的一种方法处理原图片，查看噪声处理图片后的效果；\n",
    "# 使用邻域平均法、中值滤波、最大值滤波、最小值滤波和高斯滤波等方法中的一种处理加过噪声后的图像，完成去噪声操作；\n",
    "# 使用RGB、GRAY（灰度图像）、XYZ、YCrC、HSV、HLS、CIELab、CIELuv或者Bayer等色彩空间处理第二步处理过的图像，如将RGB图像转化成GRAY灰度图像；\n",
    "# 将上面第三步得到的图片作为模型输入，使用普通CNN网络、ResNet或者VGG模型提取处理过程中的特征图，并将特征图保存。\n",
    "\n",
    "# 结果保存在/result/image中"
   ]
  },
  {
   "cell_type": "code",
   "execution_count": 11,
   "id": "6510d06a-2ff6-4141-87fd-c2cfa8b16b58",
   "metadata": {
    "execution": {
     "iopub.execute_input": "2024-10-21T02:53:40.264740Z",
     "iopub.status.busy": "2024-10-21T02:53:40.264103Z",
     "iopub.status.idle": "2024-10-21T02:53:40.269505Z",
     "shell.execute_reply": "2024-10-21T02:53:40.268581Z",
     "shell.execute_reply.started": "2024-10-21T02:53:40.264712Z"
    },
    "scrolled": true
   },
   "outputs": [],
   "source": [
    "import cv2\n",
    "import numpy as np\n",
    "import matplotlib.pyplot as plt\n",
    "import paddle\n",
    "from paddle.vision.models import resnet50, vgg16\n",
    "from scipy.ndimage import gaussian_filter, median_filter, maximum_filter, minimum_filter"
   ]
  },
  {
   "cell_type": "code",
   "execution_count": 12,
   "id": "0245880f-f39f-48d9-971b-90b565ef0297",
   "metadata": {
    "execution": {
     "iopub.execute_input": "2024-10-21T02:53:40.271334Z",
     "iopub.status.busy": "2024-10-21T02:53:40.270695Z",
     "iopub.status.idle": "2024-10-21T02:53:40.275654Z",
     "shell.execute_reply": "2024-10-21T02:53:40.274781Z",
     "shell.execute_reply.started": "2024-10-21T02:53:40.271305Z"
    },
    "scrolled": true
   },
   "outputs": [],
   "source": [
    "# 加载数据集中的图像\n",
    "def load_image(file_path):\n",
    "    image = cv2.imread(file_path)\n",
    "    image = cv2.cvtColor(image, cv2.COLOR_BGR2RGB)  # 转换为RGB格式\n",
    "    return image"
   ]
  },
  {
   "cell_type": "code",
   "execution_count": 13,
   "id": "829787d5-d8e5-4c9d-a6f3-6b3bc71c609d",
   "metadata": {
    "execution": {
     "iopub.execute_input": "2024-10-21T02:53:40.277169Z",
     "iopub.status.busy": "2024-10-21T02:53:40.276798Z",
     "iopub.status.idle": "2024-10-21T02:53:40.282053Z",
     "shell.execute_reply": "2024-10-21T02:53:40.281155Z",
     "shell.execute_reply.started": "2024-10-21T02:53:40.277145Z"
    },
    "scrolled": true
   },
   "outputs": [],
   "source": [
    "# 对图像添加高斯噪声\n",
    "def add_gaussian_noise(image, mean=0, sigma=50):\n",
    "    noise = np.random.normal(mean, sigma, image.shape).astype(np.float32)\n",
    "    noisy_image = image + noise\n",
    "    noisy_image = np.clip(noisy_image, 0, 255).astype(np.uint8)\n",
    "    return noisy_image"
   ]
  },
  {
   "cell_type": "code",
   "execution_count": 14,
   "id": "b9d20dc2-2e4a-4d8e-ab60-4597446683b2",
   "metadata": {
    "execution": {
     "iopub.execute_input": "2024-10-21T02:53:40.284713Z",
     "iopub.status.busy": "2024-10-21T02:53:40.284328Z",
     "iopub.status.idle": "2024-10-21T02:53:40.289777Z",
     "shell.execute_reply": "2024-10-21T02:53:40.288925Z",
     "shell.execute_reply.started": "2024-10-21T02:53:40.284689Z"
    },
    "scrolled": true
   },
   "outputs": [],
   "source": [
    "# 去噪声 - 高斯滤波\n",
    "def denoise_image(image, method=\"gaussian\", kernel_size=5):\n",
    "    if method == \"gaussian\":\n",
    "        return cv2.GaussianBlur(image, (kernel_size, kernel_size), 0)\n",
    "    elif method == \"median\":\n",
    "        return median_filter(image, size=kernel_size)\n",
    "    elif method == \"maximum\":\n",
    "        return maximum_filter(image, size=kernel_size)\n",
    "    elif method == \"minimum\":\n",
    "        return minimum_filter(image, size=kernel_size)\n",
    "    else:\n",
    "        raise ValueError(\"Unsupported denoise method!\")"
   ]
  },
  {
   "cell_type": "code",
   "execution_count": 15,
   "id": "3eb2ba5c-4452-4cad-a5a6-aba832f49827",
   "metadata": {
    "execution": {
     "iopub.execute_input": "2024-10-21T02:53:40.291302Z",
     "iopub.status.busy": "2024-10-21T02:53:40.290898Z",
     "iopub.status.idle": "2024-10-21T02:53:40.296192Z",
     "shell.execute_reply": "2024-10-21T02:53:40.295457Z",
     "shell.execute_reply.started": "2024-10-21T02:53:40.291271Z"
    },
    "scrolled": true
   },
   "outputs": [],
   "source": [
    "# 转换图像色彩空间 - 例如将RGB转换为灰度图像\n",
    "def convert_color_space(image, space=\"GRAY\"):\n",
    "    if space == \"GRAY\":\n",
    "        return cv2.cvtColor(image, cv2.COLOR_RGB2GRAY)\n",
    "    elif space == \"HSV\":\n",
    "        return cv2.cvtColor(image, cv2.COLOR_RGB2HSV)\n",
    "    elif space == \"XYZ\":\n",
    "        return cv2.cvtColor(image, cv2.COLOR_RGB2XYZ)\n",
    "    elif space == \"LAB\":\n",
    "        return cv2.cvtColor(image, cv2.COLOR_RGB2LAB)\n",
    "    else:\n",
    "        raise ValueError(\"Unsupported color space!\")"
   ]
  },
  {
   "cell_type": "code",
   "execution_count": 16,
   "id": "92bbcd2d-e019-48bb-987f-bfafbd25f680",
   "metadata": {
    "execution": {
     "iopub.execute_input": "2024-10-21T02:53:40.336490Z",
     "iopub.status.busy": "2024-10-21T02:53:40.297229Z",
     "iopub.status.idle": "2024-10-21T02:53:40.342876Z",
     "shell.execute_reply": "2024-10-21T02:53:40.341985Z",
     "shell.execute_reply.started": "2024-10-21T02:53:40.336428Z"
    },
    "scrolled": true
   },
   "outputs": [],
   "source": [
    "# 使用CNN模型（ResNet或者VGG）提取特征\n",
    "def extract_features(image, model_name=\"resnet50\"):\n",
    "    \"\"\"\n",
    "    提取给定图像的特征，使用ResNet50或VGG16等模型。\n",
    "    \"\"\"\n",
    "    # 如果图像是灰度图，将其转为三通道\n",
    "    if len(image.shape) == 2:  \n",
    "        image = np.stack([image] * 3, axis=-1)  # 灰度图转RGB\n",
    "    \n",
    "    # 将图像转为float32类型并进行归一化\n",
    "    image = image.astype('float32') / 255.0\n",
    "    image = np.transpose(image, (2, 0, 1))  # 调整通道顺序为 [C, H, W]\n",
    "    image = np.expand_dims(image, axis=0)  # 增加batch维度\n",
    "    \n",
    "    # 使用PaddlePaddle的ResNet或VGG模型\n",
    "    if model_name == \"resnet50\":\n",
    "        model = resnet50(pretrained=True)\n",
    "    elif model_name == \"vgg16\":\n",
    "        model = vgg16(pretrained=True)\n",
    "    else:\n",
    "        raise ValueError(\"Unsupported model!\")\n",
    "    \n",
    "    model.eval()  # 设置为评估模式\n",
    "    # 将图像转换为Paddle tensor\n",
    "    image_tensor = paddle.to_tensor(image)\n",
    "    \n",
    "    # 提取特征\n",
    "    features = model(image_tensor)\n",
    "    return features.numpy()"
   ]
  },
  {
   "cell_type": "code",
   "execution_count": 17,
   "id": "7c91b36b-cb94-4be5-9d6b-c4b3df76cc14",
   "metadata": {
    "execution": {
     "iopub.execute_input": "2024-10-21T02:53:40.344768Z",
     "iopub.status.busy": "2024-10-21T02:53:40.344113Z",
     "iopub.status.idle": "2024-10-21T02:53:40.348873Z",
     "shell.execute_reply": "2024-10-21T02:53:40.348154Z",
     "shell.execute_reply.started": "2024-10-21T02:53:40.344740Z"
    },
    "scrolled": true
   },
   "outputs": [],
   "source": [
    "# 保存处理后的图像\n",
    "def save_image(image, file_path, cmap='gray'):\n",
    "    plt.imshow(image, cmap=cmap)\n",
    "    plt.axis('off')\n",
    "    plt.savefig(file_path)\n",
    "    plt.close()"
   ]
  },
  {
   "cell_type": "code",
   "execution_count": 18,
   "id": "6ddec69a-dbbb-4c51-84b8-f7f0ca0294ef",
   "metadata": {
    "execution": {
     "iopub.execute_input": "2024-10-21T02:53:40.350304Z",
     "iopub.status.busy": "2024-10-21T02:53:40.349946Z",
     "iopub.status.idle": "2024-10-21T02:53:40.356978Z",
     "shell.execute_reply": "2024-10-21T02:53:40.356325Z",
     "shell.execute_reply.started": "2024-10-21T02:53:40.350281Z"
    },
    "scrolled": true
   },
   "outputs": [],
   "source": [
    "# 主流程 - 处理目录中的所有图像\n",
    "def process_images_in_directory(input_directory, output_directory):\n",
    "    # 获取目录下所有图像文件\n",
    "    image_files = [f for f in os.listdir(input_directory) if f.endswith(('.jpg', '.jpeg', '.png'))]\n",
    "    \n",
    "    for image_file in image_files:\n",
    "        # 构造完整输入文件路径\n",
    "        file_path = os.path.join(input_directory, image_file)\n",
    "        \n",
    "        # 加载图像\n",
    "        image = load_image(file_path)\n",
    "        \n",
    "        # 添加高斯噪声\n",
    "        noisy_image = add_gaussian_noise(image)\n",
    "        \n",
    "        # 去噪声操作\n",
    "        denoised_image = denoise_image(noisy_image, method=\"gaussian\")\n",
    "        \n",
    "        # 转换色彩空间\n",
    "        gray_image = convert_color_space(denoised_image, space=\"GRAY\")\n",
    "        \n",
    "        # 为每张图像创建一个单独的文件夹\n",
    "        image_name = os.path.splitext(image_file)[0]  # 获取图像的名称（去除扩展名）\n",
    "        image_output_dir = os.path.join(output_directory, image_name)\n",
    "        os.makedirs(image_output_dir, exist_ok=True)  # 创建图像对应的文件夹\n",
    "        \n",
    "        # 保存噪声图像、去噪图像、灰度图像\n",
    "        save_image(noisy_image, os.path.join(image_output_dir, f\"noisy_{image_name}.png\"))\n",
    "        save_image(denoised_image, os.path.join(image_output_dir, f\"denoised_{image_name}.png\"))\n",
    "        save_image(gray_image, os.path.join(image_output_dir, f\"gray_{image_name}.png\"))"
   ]
  },
  {
   "cell_type": "code",
   "execution_count": 19,
   "id": "1a791d94-3416-4932-abd4-d847b3df7623",
   "metadata": {
    "execution": {
     "iopub.execute_input": "2024-10-21T02:53:40.358504Z",
     "iopub.status.busy": "2024-10-21T02:53:40.357902Z",
     "iopub.status.idle": "2024-10-21T02:54:52.264314Z",
     "shell.execute_reply": "2024-10-21T02:54:52.263236Z",
     "shell.execute_reply.started": "2024-10-21T02:53:40.358479Z"
    },
    "scrolled": true,
    "tags": []
   },
   "outputs": [
    {
     "name": "stderr",
     "output_type": "stream",
     "text": [
      "libpng warning: iCCP: known incorrect sRGB profile\r\n",
      "libpng warning: iCCP: known incorrect sRGB profile\r\n"
     ]
    }
   ],
   "source": [
    "# 运行主程序\n",
    "if __name__ == '__main__':\n",
    "    input_directory = '/home/aistudio/datasets/image/'  # 输入图像所在的目录\n",
    "    output_directory = '/home/aistudio/result/image/'  # 输出图像存储的根目录\n",
    "    process_images_in_directory(input_directory, output_directory)"
   ]
  }
 ],
 "metadata": {
  "kernelspec": {
   "display_name": "Python 3",
   "language": "python",
   "name": "py35-paddle1.2.0"
  },
  "language_info": {
   "codemirror_mode": {
    "name": "ipython",
    "version": 3
   },
   "file_extension": ".py",
   "mimetype": "text/x-python",
   "name": "python",
   "nbconvert_exporter": "python",
   "pygments_lexer": "ipython3",
   "version": "3.10.10"
  }
 },
 "nbformat": 4,
 "nbformat_minor": 5
}
