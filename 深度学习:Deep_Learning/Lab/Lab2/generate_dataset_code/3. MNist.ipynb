{
 "cells": [
  {
   "cell_type": "code",
   "execution_count": 1,
   "id": "10f317c8-7df4-4c46-9709-419bc9974348",
   "metadata": {},
   "outputs": [],
   "source": [
    "import os\n",
    "import torchvision.datasets as datasets\n",
    "import torchvision.transforms as transforms"
   ]
  },
  {
   "cell_type": "code",
   "execution_count": 2,
   "id": "e99dda7b-52d1-4809-b21a-c73fe4606618",
   "metadata": {},
   "outputs": [],
   "source": [
    "# 设置保存路径\n",
    "save_path = r'C:\\Users\\37623\\jupyter_test\\Lab2_Nerual_Network\\dataset\\MNIST_data'\n",
    "os.makedirs(save_path, exist_ok=True)"
   ]
  },
  {
   "cell_type": "code",
   "execution_count": 3,
   "id": "cc7c32df-4cfb-4c49-ab7c-e6fe0060b07e",
   "metadata": {},
   "outputs": [
    {
     "name": "stdout",
     "output_type": "stream",
     "text": [
      "Downloading http://yann.lecun.com/exdb/mnist/train-images-idx3-ubyte.gz\n",
      "Failed to download (trying next):\n",
      "<urlopen error [SSL: CERTIFICATE_VERIFY_FAILED] certificate verify failed: certificate has expired (_ssl.c:1000)>\n",
      "\n",
      "Downloading https://ossci-datasets.s3.amazonaws.com/mnist/train-images-idx3-ubyte.gz\n",
      "Downloading https://ossci-datasets.s3.amazonaws.com/mnist/train-images-idx3-ubyte.gz to C:\\Users\\37623\\jupyter_test\\Lab2_Nerual_Network\\dataset\\MNIST_data\\MNIST\\raw\\train-images-idx3-ubyte.gz\n"
     ]
    },
    {
     "name": "stderr",
     "output_type": "stream",
     "text": [
      "100%|███████████████████████████████████████████████████████████████████| 9912422/9912422 [00:04<00:00, 2256354.33it/s]\n"
     ]
    },
    {
     "name": "stdout",
     "output_type": "stream",
     "text": [
      "Extracting C:\\Users\\37623\\jupyter_test\\Lab2_Nerual_Network\\dataset\\MNIST_data\\MNIST\\raw\\train-images-idx3-ubyte.gz to C:\\Users\\37623\\jupyter_test\\Lab2_Nerual_Network\\dataset\\MNIST_data\\MNIST\\raw\n",
      "\n",
      "Downloading http://yann.lecun.com/exdb/mnist/train-labels-idx1-ubyte.gz\n",
      "Failed to download (trying next):\n",
      "<urlopen error [SSL: CERTIFICATE_VERIFY_FAILED] certificate verify failed: certificate has expired (_ssl.c:1000)>\n",
      "\n",
      "Downloading https://ossci-datasets.s3.amazonaws.com/mnist/train-labels-idx1-ubyte.gz\n",
      "Downloading https://ossci-datasets.s3.amazonaws.com/mnist/train-labels-idx1-ubyte.gz to C:\\Users\\37623\\jupyter_test\\Lab2_Nerual_Network\\dataset\\MNIST_data\\MNIST\\raw\\train-labels-idx1-ubyte.gz\n"
     ]
    },
    {
     "name": "stderr",
     "output_type": "stream",
     "text": [
      "100%|████████████████████████████████████████████████████████████████████████| 28881/28881 [00:00<00:00, 161323.04it/s]\n"
     ]
    },
    {
     "name": "stdout",
     "output_type": "stream",
     "text": [
      "Extracting C:\\Users\\37623\\jupyter_test\\Lab2_Nerual_Network\\dataset\\MNIST_data\\MNIST\\raw\\train-labels-idx1-ubyte.gz to C:\\Users\\37623\\jupyter_test\\Lab2_Nerual_Network\\dataset\\MNIST_data\\MNIST\\raw\n",
      "\n",
      "Downloading http://yann.lecun.com/exdb/mnist/t10k-images-idx3-ubyte.gz\n",
      "Failed to download (trying next):\n",
      "<urlopen error [SSL: CERTIFICATE_VERIFY_FAILED] certificate verify failed: certificate has expired (_ssl.c:1000)>\n",
      "\n",
      "Downloading https://ossci-datasets.s3.amazonaws.com/mnist/t10k-images-idx3-ubyte.gz\n",
      "Downloading https://ossci-datasets.s3.amazonaws.com/mnist/t10k-images-idx3-ubyte.gz to C:\\Users\\37623\\jupyter_test\\Lab2_Nerual_Network\\dataset\\MNIST_data\\MNIST\\raw\\t10k-images-idx3-ubyte.gz\n"
     ]
    },
    {
     "name": "stderr",
     "output_type": "stream",
     "text": [
      "100%|███████████████████████████████████████████████████████████████████| 1648877/1648877 [00:01<00:00, 1240942.67it/s]\n"
     ]
    },
    {
     "name": "stdout",
     "output_type": "stream",
     "text": [
      "Extracting C:\\Users\\37623\\jupyter_test\\Lab2_Nerual_Network\\dataset\\MNIST_data\\MNIST\\raw\\t10k-images-idx3-ubyte.gz to C:\\Users\\37623\\jupyter_test\\Lab2_Nerual_Network\\dataset\\MNIST_data\\MNIST\\raw\n",
      "\n",
      "Downloading http://yann.lecun.com/exdb/mnist/t10k-labels-idx1-ubyte.gz\n",
      "Failed to download (trying next):\n",
      "<urlopen error [SSL: CERTIFICATE_VERIFY_FAILED] certificate verify failed: certificate has expired (_ssl.c:1000)>\n",
      "\n",
      "Downloading https://ossci-datasets.s3.amazonaws.com/mnist/t10k-labels-idx1-ubyte.gz\n",
      "Downloading https://ossci-datasets.s3.amazonaws.com/mnist/t10k-labels-idx1-ubyte.gz to C:\\Users\\37623\\jupyter_test\\Lab2_Nerual_Network\\dataset\\MNIST_data\\MNIST\\raw\\t10k-labels-idx1-ubyte.gz\n"
     ]
    },
    {
     "name": "stderr",
     "output_type": "stream",
     "text": [
      "100%|█████████████████████████████████████████████████████████████████████████| 4542/4542 [00:00<00:00, 1028701.81it/s]"
     ]
    },
    {
     "name": "stdout",
     "output_type": "stream",
     "text": [
      "Extracting C:\\Users\\37623\\jupyter_test\\Lab2_Nerual_Network\\dataset\\MNIST_data\\MNIST\\raw\\t10k-labels-idx1-ubyte.gz to C:\\Users\\37623\\jupyter_test\\Lab2_Nerual_Network\\dataset\\MNIST_data\\MNIST\\raw\n",
      "\n",
      "MNIST data downloaded and saved to: C:\\Users\\37623\\jupyter_test\\Lab2_Nerual_Network\\dataset\\MNIST_data\n"
     ]
    },
    {
     "name": "stderr",
     "output_type": "stream",
     "text": [
      "\n"
     ]
    }
   ],
   "source": [
    "# 下载和加载 MNIST 数据集\n",
    "mnist_train = datasets.MNIST(root=save_path, train=True, download=True, transform=transforms.ToTensor())\n",
    "mnist_test = datasets.MNIST(root=save_path, train=False, download=True, transform=transforms.ToTensor())\n",
    "\n",
    "print(\"MNIST data downloaded and saved to:\", save_path)"
   ]
  },
  {
   "cell_type": "code",
   "execution_count": 4,
   "id": "192d627d-ff6c-4c0d-8ac1-ce7169a3f62e",
   "metadata": {},
   "outputs": [
    {
     "name": "stdout",
     "output_type": "stream",
     "text": [
      "Number of training samples: 60000\n",
      "Number of testing samples: 10000\n"
     ]
    }
   ],
   "source": [
    "# 查看训练集和测试集的样本数\n",
    "print(\"Number of training samples:\", len(mnist_train))\n",
    "print(\"Number of testing samples:\", len(mnist_test))"
   ]
  },
  {
   "cell_type": "code",
   "execution_count": 5,
   "id": "270fc71b-16b0-4338-b514-6059c87a500a",
   "metadata": {},
   "outputs": [
    {
     "name": "stdout",
     "output_type": "stream",
     "text": [
      "Image shape: torch.Size([1, 28, 28])\n",
      "Label: 5\n"
     ]
    }
   ],
   "source": [
    "# 检查一个样本的形状\n",
    "image, label = mnist_train[0]\n",
    "print(\"Image shape:\", image.shape)  # 应该是 torch.Size([1, 28, 28])\n",
    "print(\"Label:\", label)"
   ]
  },
  {
   "cell_type": "markdown",
   "id": "3cd5f6ad-f0dd-4842-94c4-4263e58c6216",
   "metadata": {},
   "source": [
    "# 代码说明\n",
    "1. 导入库：使用 `torchvision.datasets` 和 `torchvision.transforms` 处理数据集。\n",
    "2. 设置保存路径：指定 `save_path `为 `C:\\Users\\37623\\jupyter_test\\Lab2_Nerual_Network\\dataset\\MNIST_data`。\n",
    "3. 下载和加载数据：使用` datasets.MNIST` 下载和加载` MNIST `数据集，`train=True`表示下载训练集，`train=False `表示下载测试集。数据将被自动保存到指定路径。\n",
    "4. 检查数据：输出训练集和测试集样本数，以及第一个样本的形状和标签，以确保数据加载正确。"
   ]
  },
  {
   "cell_type": "markdown",
   "id": "8a236a7c-6a50-44f0-a526-0e03b23f00c4",
   "metadata": {},
   "source": [
    "注意已经安装`torch` and `torchvision`, can use `pip` to install"
   ]
  }
 ],
 "metadata": {
  "kernelspec": {
   "display_name": "Python 3 (ipykernel)",
   "language": "python",
   "name": "python3"
  },
  "language_info": {
   "codemirror_mode": {
    "name": "ipython",
    "version": 3
   },
   "file_extension": ".py",
   "mimetype": "text/x-python",
   "name": "python",
   "nbconvert_exporter": "python",
   "pygments_lexer": "ipython3",
   "version": "3.12.4"
  }
 },
 "nbformat": 4,
 "nbformat_minor": 5
}
