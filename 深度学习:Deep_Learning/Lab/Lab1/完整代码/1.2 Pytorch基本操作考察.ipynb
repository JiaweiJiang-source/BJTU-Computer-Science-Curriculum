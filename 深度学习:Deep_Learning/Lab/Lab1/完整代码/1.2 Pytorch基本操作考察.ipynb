{
 "cells": [
  {
   "cell_type": "markdown",
   "id": "087685ab-1aae-4ba1-ac71-06295b6e32ec",
   "metadata": {},
   "source": [
    "# ① 利用 𝐓𝐞𝐧𝐬𝐨𝐫 创建两个大小分别 𝟑×𝟐 和 𝟒×𝟐 的随机数矩阵 𝑷 和 𝑸 ，要求服从均值为0，标准差0.01为的正态分布；② 对第二步得到的矩阵 𝑸 进行形状变换得到 𝑸 的转置 𝑸^𝑻 ；③ 对上述得到的矩阵 𝑷 和矩阵 𝑸^𝑻 求矩阵相乘"
   ]
  },
  {
   "cell_type": "code",
   "execution_count": 1,
   "id": "28955940-24e7-4b46-8e16-500dc58a1bfb",
   "metadata": {},
   "outputs": [],
   "source": [
    "import torch\n",
    "import torchvision\n",
    "import torchvision.transforms as transforms"
   ]
  },
  {
   "cell_type": "markdown",
   "id": "988b3f23-f7b9-4b46-8d7f-0560042e73fd",
   "metadata": {},
   "source": [
    "### 代码实现步骤：\n",
    "\n",
    "#### 1. 创建两个随机数矩阵 \\( P \\) 和 \\( Q \\)，它们分别服从均值为0，标准差为0.01的正态分布。\n",
    "#### 2. 对矩阵 \\( Q \\) 进行转置操作，得到 \\( Q^T \\)。\n",
    "#### 3. 对矩阵 \\( P \\) 和 \\( Q^T \\) 进行矩阵相乘操作。"
   ]
  },
  {
   "cell_type": "code",
   "execution_count": 2,
   "id": "17a642a1-a656-4d89-857d-917bdd706117",
   "metadata": {},
   "outputs": [
    {
     "name": "stdout",
     "output_type": "stream",
     "text": [
      "Matrix P (3×2):\n",
      "tensor([[-0.0111,  0.0050],\n",
      "        [ 0.0224, -0.0141],\n",
      "        [ 0.0074,  0.0012]])\n",
      "\n",
      "Matrix Q (4×2):\n",
      "tensor([[ 0.0103, -0.0198],\n",
      "        [-0.0084, -0.0076],\n",
      "        [ 0.0129,  0.0192],\n",
      "        [-0.0017,  0.0155]])\n",
      "\n",
      "Matrix Q^T (2×4):\n",
      "tensor([[ 0.0103, -0.0084,  0.0129, -0.0017],\n",
      "        [-0.0198, -0.0076,  0.0192,  0.0155]])\n",
      "\n",
      "Result of P × Q^T (3×4):\n",
      "tensor([[-2.1367e-04,  5.4975e-05, -4.7197e-05,  9.5990e-05],\n",
      "        [ 5.1215e-04, -7.9856e-05,  1.6895e-05, -2.5711e-04],\n",
      "        [ 5.2654e-05, -7.0550e-05,  1.1729e-04,  6.0173e-06]])\n"
     ]
    }
   ],
   "source": [
    "import torch\n",
    "\n",
    "# ① 创建两个矩阵 P (3×2) 和 Q (4×2)，服从均值为0，标准差为0.01的正态分布\n",
    "P = torch.normal(mean=0, std=0.01, size=(3, 2))\n",
    "Q = torch.normal(mean=0, std=0.01, size=(4, 2))\n",
    "\n",
    "print(\"Matrix P (3×2):\")\n",
    "print(P)\n",
    "\n",
    "print(\"\\nMatrix Q (4×2):\")\n",
    "print(Q)\n",
    "\n",
    "# ② 将 Q 进行转置，得到 Q^T (2×4)\n",
    "Q_T = Q.t()\n",
    "print(\"\\nMatrix Q^T (2×4):\")\n",
    "print(Q_T)\n",
    "\n",
    "# ③ 对矩阵 P 和 Q^T 进行矩阵相乘\n",
    "result = torch.mm(P, Q_T)\n",
    "print(\"\\nResult of P × Q^T (3×4):\")\n",
    "print(result)"
   ]
  },
  {
   "cell_type": "markdown",
   "id": "d72062a0-aada-4827-8f26-bf0f39598cb2",
   "metadata": {},
   "source": [
    "### 分析：\n",
    "\n",
    "- 首先创建了两个服从均值为0、标准差为0.01的随机矩阵 \\( P \\) 和 \\( Q \\)，分别是 \\( 3 * 2 \\) 和 \\( 4 * 2 \\) 大小。\n",
    "- 接着对矩阵 \\( Q \\) 进行了转置操作，得到 \\( Q^T \\)（从 \\( 4 * 2 \\) 变为 \\( 2 * 4 \\)）。\n",
    "- 最后，使用 `torch.mm` 进行矩阵相乘，得到 \\( 3 * 4 \\) 的结果矩阵。"
   ]
  }
 ],
 "metadata": {
  "kernelspec": {
   "display_name": "Python 3 (ipykernel)",
   "language": "python",
   "name": "python3"
  },
  "language_info": {
   "codemirror_mode": {
    "name": "ipython",
    "version": 3
   },
   "file_extension": ".py",
   "mimetype": "text/x-python",
   "name": "python",
   "nbconvert_exporter": "python",
   "pygments_lexer": "ipython3",
   "version": "3.12.4"
  }
 },
 "nbformat": 4,
 "nbformat_minor": 5
}
