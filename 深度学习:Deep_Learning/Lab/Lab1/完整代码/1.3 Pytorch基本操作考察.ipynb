{
 "cells": [
  {
   "cell_type": "markdown",
   "id": "4d5c28a5-87e8-4c57-9931-e4b42156e100",
   "metadata": {},
   "source": [
    "# 给定公式 𝑦_3=𝑦_1+𝑦_2=𝑥^2+𝑥^3，且 𝑥=1。利用学习所得到的Tensor的相关知识，求𝑦_3对𝑥的梯度，即(𝑑𝑦_3)/𝑑𝑥。\u000b",
    "要求在计算过程中，在计算〖 𝑥〗^3 时中断梯度的追踪，观察结果并进行原因分析\u000b",
    "提示, 可使用 with torch.no_grad()， 举例:\u000b",
    "with torch.no_grad():\u000b",
    "\ty = x * 5\n"
   ]
  },
  {
   "cell_type": "markdown",
   "id": "c8bbab78-b17d-4842-ae0a-323f7d7facd1",
   "metadata": {},
   "source": [
    "### 代码实现：\n",
    "\n",
    "可以使用 PyTorch 的 `torch.autograd` 来实现自动求梯度的功能，同时通过 `with torch.no_grad()` 来中断梯度的追踪。"
   ]
  },
  {
   "cell_type": "code",
   "execution_count": 1,
   "id": "7771d2ad-a179-4dfa-a70a-a9ecc5df7f28",
   "metadata": {},
   "outputs": [
    {
     "name": "stdout",
     "output_type": "stream",
     "text": [
      "x.grad: 2.0\n"
     ]
    }
   ],
   "source": [
    "import torch\n",
    "\n",
    "# 初始化 x，设置 requires_grad=True 以便追踪梯度\n",
    "x = torch.tensor(1.0, requires_grad=True)\n",
    "\n",
    "# 计算 y1 和 y2\n",
    "y1 = x ** 2\n",
    "\n",
    "# 使用 with torch.no_grad() 中断梯度追踪\n",
    "with torch.no_grad():\n",
    "    y2 = x ** 3\n",
    "\n",
    "# 计算 y3\n",
    "y3 = y1 + y2\n",
    "\n",
    "# 对 y3 求梯度\n",
    "y3.backward()\n",
    "\n",
    "# 输出 x 的梯度\n",
    "print(f\"x.grad: {x.grad}\")"
   ]
  },
  {
   "cell_type": "markdown",
   "id": "2fe60011-ecf7-4810-a176-358748079a71",
   "metadata": {},
   "source": [
    "### 代码解释：\n",
    "\n",
    "1. 初始化 `x` 并设置 `requires_grad=True`，表示需要对 `x` 追踪梯度。\n",
    "2. 计算 \\( y_1 = x^2 \\)，由于 `x` 设置了 `requires_grad=True`，PyTorch 将追踪其梯度。\n",
    "3. 在 `with torch.no_grad()` 作用域中计算 \\( y_2 = x^3 \\)，此时 PyTorch 不会追踪这个部分的梯度。\n",
    "4. 最终的 \\( y_3 = y_1 + y_2 \\)，但由于 \\( y_2 \\) 的梯度追踪被中断，只有 \\( y_1 \\) 部分会参与梯度计算。\n",
    "5. 使用 `y3.backward()` 对 \\( y_3 \\) 求导，最后输出 \\( \\frac{dy_3}{dx} \\) 的值。"
   ]
  },
  {
   "cell_type": "markdown",
   "id": "10a0db93-47f7-4927-b256-c6fb77b0303a",
   "metadata": {},
   "source": [
    "### 结果分析：\n",
    "\n",
    "从输出可以看出，梯度 $$ \\frac{dy_3}{dx} = 2x $$，即梯度仅来源于 $$ y_1 = x^2 $$ 的部分，而$$ x^3 $$ 的部分由于中断了梯度追踪，没有影响最终的梯度结果。因此，输出的结果是 $$ x = 1$$ 时，$$ \\frac{dy_3}{dx} = 2 $$。"
   ]
  }
 ],
 "metadata": {
  "kernelspec": {
   "display_name": "Python 3 (ipykernel)",
   "language": "python",
   "name": "python3"
  },
  "language_info": {
   "codemirror_mode": {
    "name": "ipython",
    "version": 3
   },
   "file_extension": ".py",
   "mimetype": "text/x-python",
   "name": "python",
   "nbconvert_exporter": "python",
   "pygments_lexer": "ipython3",
   "version": "3.12.4"
  }
 },
 "nbformat": 4,
 "nbformat_minor": 5
}
