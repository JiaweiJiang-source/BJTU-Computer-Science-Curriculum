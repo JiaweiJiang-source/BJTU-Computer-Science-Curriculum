{
 "cells": [
  {
   "attachments": {},
   "cell_type": "markdown",
   "id": "5d861ca9-ef7a-4ecd-ad14-5b27dc899fdf",
   "metadata": {},
   "source": [
    "# 问题一：使用 𝐓𝐞𝐧𝐬𝐨𝐫 初始化一个 𝟏×𝟑 的矩阵 𝑴 和一个 𝟐×𝟏 的矩阵 𝑵，对两矩阵进行减法操作（要求实现三种不同的形式），给出结果并分析三种方式的不同（如果出现报错，分析报错的原因），同时需要指出在计算过程中发生了什么"
   ]
  },
  {
   "cell_type": "code",
   "execution_count": 2,
   "id": "600141be-fa44-4c47-ab17-7b490bbaed3f",
   "metadata": {},
   "outputs": [],
   "source": [
    "import torch\n",
    "\n",
    "# 初始化矩阵 M 和 N\n",
    "M = torch.rand(1, 3)\n",
    "N = torch.rand(2, 1)"
   ]
  },
  {
   "cell_type": "markdown",
   "id": "8a36451e-65ee-4539-ab36-52c551a3639d",
   "metadata": {},
   "source": [
    "# 方式1：直接减法操作（不匹配形状）"
   ]
  },
  {
   "cell_type": "code",
   "execution_count": 3,
   "id": "89ef7cbf-f155-4144-b963-02ab697e2f99",
   "metadata": {},
   "outputs": [
    {
     "name": "stdout",
     "output_type": "stream",
     "text": [
      "M: tensor([[0.8885, 0.8797, 0.9991]])\n",
      "N: tensor([[0.4607],\n",
      "        [0.8617]])\n",
      "Result: tensor([[0.4278, 0.4190, 0.5384],\n",
      "        [0.0268, 0.0180, 0.1374]])\n"
     ]
    }
   ],
   "source": [
    "# 直接相减\n",
    "result = M - N\n",
    "print(\"M:\", M)\n",
    "print(\"N:\", N)\n",
    "print(\"Result:\", result)"
   ]
  },
  {
   "cell_type": "markdown",
   "id": "88f46d86-c4f9-470e-a3cf-192a2e6b5b8c",
   "metadata": {},
   "source": [
    "在这种情况下，PyTorch 会尝试自动广播（broadcasting）机制使得两个矩阵的形状匹配。矩阵 M 是 1×3，矩阵 N 是 2×1，根据广播机制，矩阵 N 会沿着列复制，矩阵 M 会沿着行复制，使得它们都变成 2×3的矩阵，然后再进行减法操作。\n",
    "计算过程中的广播机制：\n",
    "+ M 从 1×3通过行复制扩展为 2×3。\n",
    "+ N 从 2×1通过列复制扩展为 2×3。"
   ]
  },
  {
   "cell_type": "markdown",
   "id": "d947ef5d-28cb-46f0-93e1-97f858034489",
   "metadata": {},
   "source": [
    "# 方式2：显式转换矩阵形状"
   ]
  },
  {
   "cell_type": "code",
   "execution_count": 4,
   "id": "654ed52e-4921-429f-9f56-d6a29c63b745",
   "metadata": {},
   "outputs": [
    {
     "name": "stdout",
     "output_type": "stream",
     "text": [
      "M: tensor([[0.8885, 0.8797, 0.9991]])\n",
      "N (transformed): tensor([[0.4607, 0.4607, 0.4607],\n",
      "        [0.8617, 0.8617, 0.8617]])\n",
      "Result: tensor([[0.4278, 0.4190, 0.5384],\n",
      "        [0.0268, 0.0180, 0.1374]])\n"
     ]
    }
   ],
   "source": [
    "# 将 N 变形为 (2, 3)\n",
    "N_transformed = N.expand(2, 3)\n",
    "\n",
    "# 相减\n",
    "result = M - N_transformed\n",
    "print(\"M:\", M)\n",
    "print(\"N (transformed):\", N_transformed)\n",
    "print(\"Result:\", result)"
   ]
  },
  {
   "cell_type": "markdown",
   "id": "60917345-cf9e-4143-b87f-0285594e822f",
   "metadata": {},
   "source": [
    "在这种方法中，使用 `expand()` 显式地将矩阵N 的形状变为2*3。这时矩阵M 和 N 的形状已经匹配，所以可以直接进行减法操作。这种方法避免了隐式的广播机制，明确地控制了矩阵的形状。"
   ]
  },
  {
   "cell_type": "markdown",
   "id": "e54e2966-b14a-480a-890b-0b43513f212e",
   "metadata": {},
   "source": [
    "# 方式3：手动复制矩阵"
   ]
  },
  {
   "cell_type": "code",
   "execution_count": 5,
   "id": "52fe061d-c74a-41cb-a340-14f259bdba6d",
   "metadata": {},
   "outputs": [
    {
     "name": "stdout",
     "output_type": "stream",
     "text": [
      "M: tensor([[0.8885, 0.8797, 0.9991]])\n",
      "N (repeated): tensor([[0.4607, 0.4607, 0.4607],\n",
      "        [0.8617, 0.8617, 0.8617]])\n",
      "Result: tensor([[0.4278, 0.4190, 0.5384],\n",
      "        [0.0268, 0.0180, 0.1374]])\n"
     ]
    }
   ],
   "source": [
    "# 手动复制矩阵 N 的列\n",
    "N_repeated = N.repeat(1, 3)\n",
    "\n",
    "# 相减\n",
    "result = M - N_repeated\n",
    "print(\"M:\", M)\n",
    "print(\"N (repeated):\", N_repeated)\n",
    "print(\"Result:\", result)"
   ]
  },
  {
   "cell_type": "markdown",
   "id": "db05af11-416f-4e62-9e89-c6f9f3cdf605",
   "metadata": {},
   "source": [
    "在这个实现中，使用 `repeat()` 方法手动复制矩阵 \\(N\\)，使其形状与矩阵 \\(M\\) 匹配。然后再进行减法操作。这种方法可以在不依赖广播机制的情况下，精确控制矩阵的复制。"
   ]
  }
 ],
 "metadata": {
  "kernelspec": {
   "display_name": "Python 3 (ipykernel)",
   "language": "python",
   "name": "python3"
  },
  "language_info": {
   "codemirror_mode": {
    "name": "ipython",
    "version": 3
   },
   "file_extension": ".py",
   "mimetype": "text/x-python",
   "name": "python",
   "nbconvert_exporter": "python",
   "pygments_lexer": "ipython3",
   "version": "3.12.4"
  }
 },
 "nbformat": 4,
 "nbformat_minor": 5
}
